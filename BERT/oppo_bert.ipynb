{
 "cells": [
  {
   "cell_type": "code",
   "execution_count": 1,
   "id": "9b1b48f4-2c83-4f2a-adbb-5fe095500249",
   "metadata": {
    "tags": []
   },
   "outputs": [
    {
     "name": "stdout",
     "output_type": "stream",
     "text": [
      "Requirement already satisfied: transformers in /opt/conda/lib/python3.10/site-packages (4.47.1)\n",
      "Requirement already satisfied: filelock in /opt/conda/lib/python3.10/site-packages (from transformers) (3.16.1)\n",
      "Requirement already satisfied: requests in /opt/conda/lib/python3.10/site-packages (from transformers) (2.28.1)\n",
      "Requirement already satisfied: tqdm>=4.27 in /opt/conda/lib/python3.10/site-packages (from transformers) (4.64.0)\n",
      "Requirement already satisfied: safetensors>=0.4.1 in /opt/conda/lib/python3.10/site-packages (from transformers) (0.5.0)\n",
      "Requirement already satisfied: regex!=2019.12.17 in /opt/conda/lib/python3.10/site-packages (from transformers) (2024.11.6)\n",
      "Requirement already satisfied: tokenizers<0.22,>=0.21 in /opt/conda/lib/python3.10/site-packages (from transformers) (0.21.0)\n",
      "Requirement already satisfied: huggingface-hub<1.0,>=0.24.0 in /opt/conda/lib/python3.10/site-packages (from transformers) (0.27.0)\n",
      "Requirement already satisfied: pyyaml>=5.1 in /opt/conda/lib/python3.10/site-packages (from transformers) (6.0)\n",
      "Requirement already satisfied: packaging>=20.0 in /opt/conda/lib/python3.10/site-packages (from transformers) (21.3)\n",
      "Requirement already satisfied: numpy>=1.17 in /opt/conda/lib/python3.10/site-packages (from transformers) (1.22.4)\n",
      "Requirement already satisfied: typing-extensions>=3.7.4.3 in /opt/conda/lib/python3.10/site-packages (from huggingface-hub<1.0,>=0.24.0->transformers) (4.3.0)\n",
      "Requirement already satisfied: fsspec>=2023.5.0 in /opt/conda/lib/python3.10/site-packages (from huggingface-hub<1.0,>=0.24.0->transformers) (2024.12.0)\n",
      "Requirement already satisfied: pyparsing!=3.0.5,>=2.0.2 in /opt/conda/lib/python3.10/site-packages (from packaging>=20.0->transformers) (3.0.9)\n",
      "Requirement already satisfied: urllib3<1.27,>=1.21.1 in /opt/conda/lib/python3.10/site-packages (from requests->transformers) (1.26.10)\n",
      "Requirement already satisfied: idna<4,>=2.5 in /opt/conda/lib/python3.10/site-packages (from requests->transformers) (3.3)\n",
      "Requirement already satisfied: certifi>=2017.4.17 in /opt/conda/lib/python3.10/site-packages (from requests->transformers) (2022.6.15)\n",
      "Requirement already satisfied: charset-normalizer<3,>=2 in /opt/conda/lib/python3.10/site-packages (from requests->transformers) (2.1.0)\n",
      "\n",
      "\u001b[1m[\u001b[0m\u001b[34;49mnotice\u001b[0m\u001b[1;39;49m]\u001b[0m\u001b[39;49m A new release of pip available: \u001b[0m\u001b[31;49m22.2\u001b[0m\u001b[39;49m -> \u001b[0m\u001b[32;49m24.3.1\u001b[0m\n",
      "\u001b[1m[\u001b[0m\u001b[34;49mnotice\u001b[0m\u001b[1;39;49m]\u001b[0m\u001b[39;49m To update, run: \u001b[0m\u001b[32;49mpip install --upgrade pip\u001b[0m\n",
      "Note: you may need to restart the kernel to use updated packages.\n"
     ]
    }
   ],
   "source": [
    "pip install transformers"
   ]
  },
  {
   "cell_type": "code",
   "execution_count": 2,
   "id": "8884c367-127e-4a25-a4b9-45c69ffe74a0",
   "metadata": {},
   "outputs": [
    {
     "name": "stdout",
     "output_type": "stream",
     "text": [
      "Using cuda device: 0\n"
     ]
    }
   ],
   "source": [
    "import torch\n",
    "import torch.nn as nn\n",
    "import torch.nn.functional as F\n",
    "import torch.optim as optim\n",
    "from torch.utils.data import DataLoader, TensorDataset, Dataset\n",
    "\n",
    "# from transformers import TrainingArguments, Trainer\n",
    "\n",
    "import os\n",
    "import numpy as np\n",
    "import pandas as pd\n",
    "import matplotlib.pyplot as plt\n",
    "\n",
    "# Grab a GPU if there is one\n",
    "if torch.cuda.is_available():\n",
    "    device = torch.device(\"cuda\")\n",
    "    print(\"Using {} device: {}\".format(device, torch.cuda.current_device()))\n",
    "else:\n",
    "    device = torch.device(\"cpu\")\n",
    "    print(\"Using {}\".format(device))"
   ]
  },
  {
   "cell_type": "code",
   "execution_count": 3,
   "id": "be686fbf-4013-47cd-9c93-86982e08d5ea",
   "metadata": {},
   "outputs": [
    {
     "name": "stdout",
     "output_type": "stream",
     "text": [
      "Train data shape: (2730, 3, 300), Train label shape: (2730,)\n",
      "Valid data shape: (683, 3, 300), Valid label shape: (683,)\n",
      "Test data shape: (854, 3, 300), Test label shape: (854,)\n",
      "Scaled Train data shape: (2730, 3, 300)\n",
      "Scaled Valid data shape: (683, 3, 300)\n",
      "Scaled Test data shape: (854, 3, 300)\n"
     ]
    }
   ],
   "source": [
    "from sklearn.preprocessing import StandardScaler\n",
    "import numpy as np\n",
    "\n",
    "fold_pamap = \"../down_stream_dataset/oppo_dataset/\"\n",
    "train_xyz = np.load(f\"{fold_pamap}x_train.npy\")\n",
    "valid_xyz = np.load(f\"{fold_pamap}x_valid.npy\")\n",
    "test_xyz = np.load(f\"{fold_pamap}x_test.npy\")\n",
    "train_label = np.load(f\"{fold_pamap}y_train.npy\")\n",
    "valid_label = np.load(f\"{fold_pamap}y_valid.npy\")\n",
    "test_label = np.load(f\"{fold_pamap}y_test.npy\")\n",
    "\n",
    "# データの形を確認\n",
    "print(f\"Train data shape: {train_xyz.shape}, Train label shape: {train_label.shape}\")\n",
    "print(f\"Valid data shape: {valid_xyz.shape}, Valid label shape: {valid_label.shape}\")\n",
    "print(f\"Test data shape: {test_xyz.shape}, Test label shape: {test_label.shape}\")\n",
    "\n",
    "# 各データセットを個別に標準化\n",
    "scaler_train = StandardScaler()\n",
    "scaler_valid = StandardScaler()\n",
    "scaler_test = StandardScaler()\n",
    "\n",
    "# train_xyz の標準化\n",
    "train_xyz_reshaped = train_xyz.reshape(-1, train_xyz.shape[-1])  # 2Dに変換\n",
    "scaled_train_xyz = scaler_train.fit_transform(train_xyz_reshaped)  # 標準化\n",
    "scaled_train_xyz = scaled_train_xyz.reshape(train_xyz.shape)  # 元の形に戻す\n",
    "\n",
    "# valid_xyz の標準化\n",
    "valid_xyz_reshaped = valid_xyz.reshape(-1, valid_xyz.shape[-1])  # 2Dに変換\n",
    "scaled_valid_xyz = scaler_valid.fit_transform(valid_xyz_reshaped)  # 標準化\n",
    "scaled_valid_xyz = scaled_valid_xyz.reshape(valid_xyz.shape)  # 元の形に戻す\n",
    "\n",
    "# test_xyz の標準化\n",
    "test_xyz_reshaped = test_xyz.reshape(-1, test_xyz.shape[-1])  # 2Dに変換\n",
    "scaled_test_xyz = scaler_test.fit_transform(test_xyz_reshaped)  # 標準化\n",
    "scaled_test_xyz = scaled_test_xyz.reshape(test_xyz.shape)  # 元の形に戻す\n",
    "\n",
    "# 各データセットの形状を再確認\n",
    "print(f\"Scaled Train data shape: {scaled_train_xyz.shape}\")\n",
    "print(f\"Scaled Valid data shape: {scaled_valid_xyz.shape}\")\n",
    "print(f\"Scaled Test data shape: {scaled_test_xyz.shape}\")\n"
   ]
  },
  {
   "cell_type": "code",
   "execution_count": 4,
   "id": "1045eac1-6e84-4021-9b27-b071a815bd28",
   "metadata": {},
   "outputs": [
    {
     "name": "stdout",
     "output_type": "stream",
     "text": [
      "0    1477\n",
      "3     578\n",
      "1     554\n",
      "2     121\n",
      "dtype: int64\n",
      "0    472\n",
      "1    194\n",
      "3    150\n",
      "2     38\n",
      "dtype: int64\n",
      "0    367\n",
      "3    162\n",
      "1    133\n",
      "2     21\n",
      "dtype: int64\n"
     ]
    }
   ],
   "source": [
    "print(pd.Series(train_label).value_counts())\n",
    "print(pd.Series(test_label).value_counts())\n",
    "print(pd.Series(valid_label).value_counts())\n"
   ]
  },
  {
   "cell_type": "code",
   "execution_count": 5,
   "id": "5f925f26-d510-45bc-8067-61edb2bae047",
   "metadata": {},
   "outputs": [],
   "source": [
    "train_xyz = scaled_train_xyz\n",
    "valid_xyz = scaled_valid_xyz\n",
    "test_xyz = scaled_test_xyz"
   ]
  },
  {
   "cell_type": "code",
   "execution_count": 6,
   "id": "0926de99-d8e8-49fc-9e9b-be014f183856",
   "metadata": {},
   "outputs": [],
   "source": [
    "train_xyz = np.transpose(train_xyz, (0, 2, 1))\n",
    "valid_xyz = np.transpose(valid_xyz, (0, 2, 1))\n",
    "test_xyz = np.transpose(test_xyz, (0, 2, 1))"
   ]
  },
  {
   "cell_type": "code",
   "execution_count": 7,
   "id": "c3b8d7c5-d0c8-412f-9d1c-6ccd87910433",
   "metadata": {},
   "outputs": [
    {
     "name": "stdout",
     "output_type": "stream",
     "text": [
      "(2730, 300, 3)\n"
     ]
    }
   ],
   "source": [
    "print(train_xyz.shape)"
   ]
  },
  {
   "cell_type": "code",
   "execution_count": 8,
   "id": "0036811f-4fc3-411a-8221-f2c555f6199b",
   "metadata": {},
   "outputs": [],
   "source": [
    "import torch\n",
    "import torch.nn as nn\n",
    "from transformers import BertForSequenceClassification, BertConfig\n",
    "\n",
    "# カスタムBERTモデル\n",
    "class BertForAccelerometerClassification(BertForSequenceClassification):\n",
    "    def __init__(self, config, input_dim=3):\n",
    "        super().__init__(config)\n",
    "        self.acc_embedding = torch.nn.Linear(input_dim, config.hidden_size)\n",
    "\n",
    "    def forward(self, input_embeds=None, labels=None, **kwargs):\n",
    "        # 加速度データをエンベディング層で変換\n",
    "        if input_embeds is not None:\n",
    "            input_embeds = self.acc_embedding(input_embeds)  # (batch_size, seq_len, hidden_size)\n",
    "\n",
    "        # BERT本体を通過\n",
    "        outputs = self.bert(inputs_embeds=input_embeds, **kwargs)\n",
    "\n",
    "        # 分類ヘッドを通過\n",
    "        logits = self.classifier(outputs.pooler_output)\n",
    "\n",
    "        # 損失を計算\n",
    "        loss = None\n",
    "        if labels is not None:\n",
    "            loss_fn = torch.nn.CrossEntropyLoss()\n",
    "            loss = loss_fn(logits, labels)\n",
    "\n",
    "        return {\"loss\": loss, \"logits\": logits}\n"
   ]
  },
  {
   "cell_type": "code",
   "execution_count": 9,
   "id": "9efe0669-94a3-4eab-83c9-29e56e96e669",
   "metadata": {},
   "outputs": [],
   "source": [
    "# データセットの準備\n",
    "class SensorDataset(Dataset):\n",
    "    def __init__(self, data, labels):\n",
    "        self.data = data\n",
    "        self.labels = labels\n",
    "\n",
    "    def __len__(self):\n",
    "        return len(self.data)\n",
    "\n",
    "    def __getitem__(self, idx):\n",
    "        return {\n",
    "            \"input_embeds\": torch.tensor(self.data[idx], dtype=torch.float32),\n",
    "            \"labels\": torch.tensor(self.labels[idx], dtype=torch.long),\n",
    "        }\n",
    "# データセットとデータローダの作成\n",
    "train_dataset = SensorDataset(train_xyz, train_label)\n",
    "eval_dataset = SensorDataset(valid_xyz, valid_label)\n",
    "test_dataset = SensorDataset(test_xyz, test_label)"
   ]
  },
  {
   "cell_type": "code",
   "execution_count": 10,
   "id": "35683169-71d7-4baa-9862-0e3f55f35e1a",
   "metadata": {},
   "outputs": [],
   "source": [
    "num_classes = len(np.unique(train_label))"
   ]
  },
  {
   "cell_type": "code",
   "execution_count": 11,
   "id": "0701d8d9-a92c-400e-bd6d-61b5a97185bc",
   "metadata": {
    "tags": []
   },
   "outputs": [
    {
     "data": {
      "application/vnd.jupyter.widget-view+json": {
       "model_id": "f7304bf89f9e4cf3b52de5e0c9f8e9b5",
       "version_major": 2,
       "version_minor": 0
      },
      "text/plain": [
       "config.json:   0%|          | 0.00/570 [00:00<?, ?B/s]"
      ]
     },
     "metadata": {},
     "output_type": "display_data"
    },
    {
     "data": {
      "application/vnd.jupyter.widget-view+json": {
       "model_id": "1bc6cd5f04954f4494f27d734af79a51",
       "version_major": 2,
       "version_minor": 0
      },
      "text/plain": [
       "model.safetensors:   0%|          | 0.00/440M [00:00<?, ?B/s]"
      ]
     },
     "metadata": {},
     "output_type": "display_data"
    },
    {
     "name": "stderr",
     "output_type": "stream",
     "text": [
      "Some weights of BertForAccelerometerClassification were not initialized from the model checkpoint at bert-base-uncased and are newly initialized: ['acc_embedding.bias', 'acc_embedding.weight', 'classifier.bias', 'classifier.weight']\n",
      "You should probably TRAIN this model on a down-stream task to be able to use it for predictions and inference.\n",
      "/opt/conda/lib/python3.10/site-packages/transformers/training_args.py:1575: FutureWarning: `evaluation_strategy` is deprecated and will be removed in version 4.46 of 🤗 Transformers. Use `eval_strategy` instead\n",
      "  warnings.warn(\n",
      "Could not estimate the number of tokens of the input, floating-point operations will not be computed\n"
     ]
    },
    {
     "data": {
      "text/html": [
       "\n",
       "    <div>\n",
       "      \n",
       "      <progress value='17100' max='17100' style='width:300px; height:20px; vertical-align: middle;'></progress>\n",
       "      [17100/17100 31:48, Epoch 100/100]\n",
       "    </div>\n",
       "    <table border=\"1\" class=\"dataframe\">\n",
       "  <thead>\n",
       " <tr style=\"text-align: left;\">\n",
       "      <th>Step</th>\n",
       "      <th>Training Loss</th>\n",
       "      <th>Validation Loss</th>\n",
       "    </tr>\n",
       "  </thead>\n",
       "  <tbody>\n",
       "    <tr>\n",
       "      <td>1000</td>\n",
       "      <td>0.762500</td>\n",
       "      <td>0.743370</td>\n",
       "    </tr>\n",
       "    <tr>\n",
       "      <td>2000</td>\n",
       "      <td>0.647000</td>\n",
       "      <td>0.711013</td>\n",
       "    </tr>\n",
       "    <tr>\n",
       "      <td>3000</td>\n",
       "      <td>0.550500</td>\n",
       "      <td>0.617127</td>\n",
       "    </tr>\n",
       "    <tr>\n",
       "      <td>4000</td>\n",
       "      <td>0.247600</td>\n",
       "      <td>0.789384</td>\n",
       "    </tr>\n",
       "    <tr>\n",
       "      <td>5000</td>\n",
       "      <td>0.270600</td>\n",
       "      <td>0.961907</td>\n",
       "    </tr>\n",
       "    <tr>\n",
       "      <td>6000</td>\n",
       "      <td>0.273400</td>\n",
       "      <td>1.080416</td>\n",
       "    </tr>\n",
       "    <tr>\n",
       "      <td>7000</td>\n",
       "      <td>0.230000</td>\n",
       "      <td>1.285196</td>\n",
       "    </tr>\n",
       "    <tr>\n",
       "      <td>8000</td>\n",
       "      <td>0.038500</td>\n",
       "      <td>1.295304</td>\n",
       "    </tr>\n",
       "    <tr>\n",
       "      <td>9000</td>\n",
       "      <td>0.075000</td>\n",
       "      <td>1.534803</td>\n",
       "    </tr>\n",
       "    <tr>\n",
       "      <td>10000</td>\n",
       "      <td>0.173500</td>\n",
       "      <td>1.495496</td>\n",
       "    </tr>\n",
       "    <tr>\n",
       "      <td>11000</td>\n",
       "      <td>0.108700</td>\n",
       "      <td>1.676115</td>\n",
       "    </tr>\n",
       "    <tr>\n",
       "      <td>12000</td>\n",
       "      <td>0.067800</td>\n",
       "      <td>1.816249</td>\n",
       "    </tr>\n",
       "    <tr>\n",
       "      <td>13000</td>\n",
       "      <td>0.004400</td>\n",
       "      <td>1.910344</td>\n",
       "    </tr>\n",
       "    <tr>\n",
       "      <td>14000</td>\n",
       "      <td>0.003200</td>\n",
       "      <td>2.018793</td>\n",
       "    </tr>\n",
       "    <tr>\n",
       "      <td>15000</td>\n",
       "      <td>0.032900</td>\n",
       "      <td>2.023536</td>\n",
       "    </tr>\n",
       "    <tr>\n",
       "      <td>16000</td>\n",
       "      <td>0.003700</td>\n",
       "      <td>2.035028</td>\n",
       "    </tr>\n",
       "    <tr>\n",
       "      <td>17000</td>\n",
       "      <td>0.031800</td>\n",
       "      <td>2.098525</td>\n",
       "    </tr>\n",
       "  </tbody>\n",
       "</table><p>"
      ],
      "text/plain": [
       "<IPython.core.display.HTML object>"
      ]
     },
     "metadata": {},
     "output_type": "display_data"
    },
    {
     "data": {
      "text/plain": [
       "TrainOutput(global_step=17100, training_loss=0.25489625275864847, metrics={'train_runtime': 1909.3921, 'train_samples_per_second': 142.977, 'train_steps_per_second': 8.956, 'total_flos': 0.0, 'train_loss': 0.25489625275864847, 'epoch': 100.0})"
      ]
     },
     "execution_count": 11,
     "metadata": {},
     "output_type": "execute_result"
    }
   ],
   "source": [
    "# モデル設定\n",
    "from transformers import TrainingArguments, Trainer\n",
    "config = BertConfig.from_pretrained(\"bert-base-uncased\", num_labels=num_classes)\n",
    "model = BertForAccelerometerClassification.from_pretrained(\"bert-base-uncased\", config=config)\n",
    "\n",
    "# トレーニング設定\n",
    "training_args = TrainingArguments(\n",
    "    output_dir=\"./results_oppo\",\n",
    "    overwrite_output_dir=True,\n",
    "    num_train_epochs=100,\n",
    "    per_device_train_batch_size=16,\n",
    "    save_steps=0,\n",
    "    save_total_limit=None,\n",
    "    #logging_dir = \"./logs_distilBERT\",\n",
    "    evaluation_strategy=\"steps\",\n",
    "    eval_steps=1000,\n",
    "    logging_steps=10,\n",
    "    max_grad_norm=1.0, # 勾配クリッピング\n",
    "    fp16=True, # fp16計算\n",
    "    #weight_decay=0.01\n",
    ")\n",
    "\n",
    "# カスタムTrainerクラス\n",
    "class CustomTrainer(Trainer):\n",
    "    def compute_loss(self, model, inputs, return_outputs=False, num_items_in_batch=None):\n",
    "        # モデルに渡す入力をフィルタリング\n",
    "        inputs = {k: v for k, v in inputs.items() if k in [\"input_embeds\", \"labels\"]}\n",
    "        return super().compute_loss(model, inputs, return_outputs=return_outputs)\n",
    "\n",
    "# Trainerの作成\n",
    "trainer = CustomTrainer(\n",
    "    model=model,\n",
    "    args=training_args,\n",
    "    train_dataset=train_dataset,\n",
    "    eval_dataset=eval_dataset,\n",
    ")\n",
    "\n",
    "# トレーニング実行\n",
    "trainer.train()"
   ]
  },
  {
   "cell_type": "code",
   "execution_count": 12,
   "id": "2a1dd8dc-4da7-4527-a581-07cb062489a5",
   "metadata": {},
   "outputs": [
    {
     "data": {
      "image/png": "[encoded data removed]",
      "text/plain": [
       "<Figure size 720x360 with 1 Axes>"
      ]
     },
     "metadata": {
      "needs_background": "light"
     },
     "output_type": "display_data"
    },
    {
     "data": {
      "text/html": [],
      "text/plain": [
       "<IPython.core.display.HTML object>"
      ]
     },
     "metadata": {},
     "output_type": "display_data"
    },
    {
     "name": "stdout",
     "output_type": "stream",
     "text": [
      "              precision    recall  f1-score   support\n",
      "\n",
      "           0       0.78      0.79      0.78       472\n",
      "           1       0.54      0.53      0.53       194\n",
      "           2       0.69      0.58      0.63        38\n",
      "           3       0.82      0.83      0.83       150\n",
      "\n",
      "    accuracy                           0.73       854\n",
      "   macro avg       0.71      0.68      0.69       854\n",
      "weighted avg       0.73      0.73      0.73       854\n",
      "\n"
     ]
    },
    {
     "data": {
      "image/png": "[encoded data removed]",
      "text/plain": [
       "<Figure size 576x432 with 2 Axes>"
      ]
     },
     "metadata": {
      "needs_background": "light"
     },
     "output_type": "display_data"
    }
   ],
   "source": [
    "from sklearn.metrics import confusion_matrix, classification_report\n",
    "import matplotlib.pyplot as plt\n",
    "import seaborn as sns\n",
    "import numpy as np\n",
    "\n",
    "# ロスの履歴を取得\n",
    "train_loss = []\n",
    "train_steps = []\n",
    "eval_loss = []\n",
    "eval_steps = []\n",
    "\n",
    "# トレーニング中のログから損失を抽出\n",
    "for log in trainer.state.log_history:\n",
    "    if \"loss\" in log.keys():\n",
    "        train_loss.append(log[\"loss\"])\n",
    "        train_steps.append(log[\"step\"])\n",
    "    if \"eval_loss\" in log.keys():\n",
    "        eval_loss.append(log[\"eval_loss\"])\n",
    "        eval_steps.append(log[\"step\"])\n",
    "\n",
    "# ロスのプロット\n",
    "plt.figure(figsize=(10, 5))\n",
    "plt.plot(train_steps, train_loss, label='Train Loss', color='C0')\n",
    "plt.plot(eval_steps, eval_loss, label='Eval Loss', color='C1')\n",
    "plt.xlabel('Steps')\n",
    "plt.ylabel('Loss')\n",
    "plt.legend()\n",
    "plt.title('Training and Evaluation Loss')\n",
    "plt.grid(True)\n",
    "plt.show()\n",
    "\n",
    "# モデルで予測\n",
    "predictions = trainer.predict(test_dataset)\n",
    "preds = np.argmax(predictions.predictions, axis=1)\n",
    "\n",
    "# 分類レポートの生成\n",
    "report = classification_report(test_label, preds, target_names=[str(i) for i in range(0, num_classes)])\n",
    "print(report)\n",
    "\n",
    "# 混同行列の計算とプロット\n",
    "cm = confusion_matrix(test_label, preds)\n",
    "plt.figure(figsize=(8, 6))\n",
    "sns.heatmap(cm, annot=True, fmt='d', cmap='Blues', xticklabels=[str(i) for i in range(0, num_classes)], yticklabels=[str(i) for i in range(0, num_classes)])\n",
    "plt.xlabel('Predicted')\n",
    "plt.ylabel('True')\n",
    "plt.title('Confusion Matrix')\n",
    "plt.show()\n"
   ]
  },
  {
   "cell_type": "code",
   "execution_count": null,
   "id": "300ed61a-2047-4a34-8779-cb4de09251ac",
   "metadata": {},
   "outputs": [],
   "source": []
  }
 ],
 "metadata": {
  "kernelspec": {
   "display_name": "Python 3 (ipykernel)",
   "language": "python",
   "name": "python3"
  },
  "language_info": {
   "codemirror_mode": {
    "name": "ipython",
    "version": 3
   },
   "file_extension": ".py",
   "mimetype": "text/x-python",
   "name": "python",
   "nbconvert_exporter": "python",
   "pygments_lexer": "ipython3",
   "version": "3.10.9"
  }
 },
 "nbformat": 4,
 "nbformat_minor": 5
}
